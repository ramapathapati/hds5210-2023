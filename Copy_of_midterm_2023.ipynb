{
  "cells": [
    {
      "cell_type": "markdown",
      "metadata": {
        "id": "view-in-github",
        "colab_type": "text"
      },
      "source": [
        "<a href=\"https://colab.research.google.com/github/ramapathapati/hds5210-2023/blob/main/Copy_of_midterm_2023.ipynb\" target=\"_parent\"><img src=\"https://colab.research.google.com/assets/colab-badge.svg\" alt=\"Open In Colab\"/></a>"
      ]
    },
    {
      "cell_type": "markdown",
      "metadata": {
        "id": "tXL9lieqdWyM"
      },
      "source": [
        "# HDS5210-2022 Midterm\n",
        "\n",
        "In the midterm, you're going to use all the programming and data management skills you've developed so far to build a risk calculator that pretends to be integrated with a clinical registry.  You'll compute the PRIEST COVID-19 Clinical Severity Score for a series of patients and, based on their risk of an adverse outcome, query a REST web service to find a hospital to transfer them to. The end result of your work will be a list of instructions on where each patient should be discharged given their risk and various characteristics of the patient.\n",
        "\n",
        "Each step in the midterm will build up to form your complete solution.\n",
        "\n",
        "**Make sure you write good docstrings and doctests along the way!!**\n",
        "\n",
        "**The midterm is due at 11:59 PM CST on Monday, October 23rd.**\n",
        "\n",
        "---"
      ]
    },
    {
      "cell_type": "markdown",
      "metadata": {
        "id": "Daeh6bc-dWyT"
      },
      "source": [
        "## Step 1: Calculate PRIEST Clinical Severity Score\n",
        "\n",
        "This scoring algorithm can be found [here on the MDCalc website](https://www.mdcalc.com/priest-covid-19-clinical-severity-score#evidence).  \n",
        "\n",
        "1. You will need to write a function called **priest()** with the following input parameters.  \n",
        " * Sex (Gender assigned at birth)\n",
        " * Age in years\n",
        " * Respiratory rate in breaths per minute\n",
        " * Oxygen saturation as a percent between 0 and 1\n",
        " * Heart rate in beats per minute\n",
        " * Systolic BP in mmHg\n",
        " * Temperature in degrees C\n",
        " * Alertness as a string description\n",
        " * Inspired Oxygen as as string description\n",
        " * Performance Status as a string description\n",
        "2. The function will need to follow the algorithm provided on the MDCalc website to compute a risk percentage that should be returned as a numeric value between 0 and 1.\n",
        "3. Be sure to use docstring documentation and at least three built-in docstring test cases.\n",
        "4. Assume that the input values that are strings could be any combination of upper or lower case. For example: 'male', 'Male', 'MALE', 'MalE' should all be interpretted by your code as male.\n",
        "5. If any of the inputs are invalid (for example a sex value that is not recognizable as male or female) your code should return None.\n",
        "\n",
        "NOTES:\n",
        "1. In the final step there is a table that translates from **PRIEST Score** to **30-day probability of an outcome** but the last two probabilities are shown as ranges (59-88% and >99%).  Our code needs to output a single number, however. For our code, use the following rule:\n",
        " * If PRIEST score is between 17 and 25, the probability you return should be 0.59\n",
        " * If PRIEST score is greater than or equal to 26, the probability you return should be 0.99\n"
      ]
    },
    {
      "cell_type": "code",
      "execution_count": 3,
      "metadata": {
        "id": "tXFPekh2dWyV",
        "outputId": "169aec67-b7cb-499a-807e-46744ea4c2e3",
        "colab": {
          "base_uri": "https://localhost:8080/"
        }
      },
      "outputs": [
        {
          "output_type": "stream",
          "name": "stdout",
          "text": [
            "The PRIEST Clinical Severity Score is: 0.55\n"
          ]
        }
      ],
      "source": [
        "import requests\n",
        "\n",
        "def priest(sex: str, age: int, respiratory_rate: int, oxygen_saturation: float, heart_rate: int, systolic_bp: int, temperature: float, alertness: str, inspired_oxygen: str, performance_status: str) -> float:\n",
        "    try:\n",
        "        # Validate the input values.\n",
        "        sex = sex.lower()  # Convert to lowercase\n",
        "        alertness = alertness.lower()  # Convert to lowercase\n",
        "        inspired_oxygen = inspired_oxygen.lower()  # Convert to lowercase\n",
        "        performance_status = performance_status.lower()  # Convert to lowercase\n",
        "\n",
        "        if sex not in {\"male\", \"female\"}:\n",
        "            raise ValueError(f\"Invalid sex value: {sex}\")\n",
        "        if age < 0:\n",
        "            raise ValueError(f\"Invalid age value: {age}\")\n",
        "        if respiratory_rate < 0:\n",
        "            raise ValueError(f\"Invalid respiratory rate value: {respiratory_rate}\")\n",
        "        if oxygen_saturation < 0 or oxygen_saturation > 1:\n",
        "            raise ValueError(f\"Invalid oxygen saturation value: {oxygen_saturation}\")\n",
        "        if heart_rate < 0:\n",
        "            raise ValueError(f\"Invalid heart rate value: {heart_rate}\")\n",
        "        if systolic_bp < 0:\n",
        "            raise ValueError(f\"Invalid systolic BP value: {systolic_bp}\")\n",
        "        if temperature < 0:\n",
        "            raise ValueError(f\"Invalid temperature value: {temperature}\")\n",
        "        if alertness not in {\"alert\", \"confused or not alert\"}:\n",
        "            raise ValueError(f\"Invalid alertness value: {alertness}\")\n",
        "        if inspired_oxygen not in {\"air\", \"supplemental oxygen\"}:\n",
        "            raise ValueError(f\"Invalid inspired oxygen value: {inspired_oxygen}\")\n",
        "        if performance_status not in {\n",
        "            \"unrestricted normal activity\",\n",
        "            \"limited strenuous activity, can do light activity\",\n",
        "            \"limited activity, can self-care\",\n",
        "            \"limited self-care\",\n",
        "        }:\n",
        "            raise ValueError(f\"Invalid performance status value: {performance_status}\")\n",
        "\n",
        "        # Calculate the PRIEST score.\n",
        "        score = 0\n",
        "\n",
        "        # Sex.\n",
        "        if sex == \"male\":\n",
        "            score += 1\n",
        "\n",
        "        # Age.\n",
        "        if age >= 50 and age < 66:\n",
        "            score += 2\n",
        "        elif age >= 66 and age < 80:\n",
        "            score += 3\n",
        "        elif age >= 80:\n",
        "            score += 4\n",
        "\n",
        "        # Respiratory rate.\n",
        "        if respiratory_rate >= 21:\n",
        "            score += 2\n",
        "        elif respiratory_rate >= 12:\n",
        "            score += 1\n",
        "\n",
        "        # Oxygen saturation.\n",
        "        if oxygen_saturation < 92:\n",
        "            score += 3\n",
        "        elif oxygen_saturation < 94:\n",
        "            score += 2\n",
        "        elif oxygen_saturation < 95:\n",
        "            score += 1\n",
        "\n",
        "        # Heart rate.\n",
        "        if heart_rate >= 110:\n",
        "            score += 2\n",
        "        elif heart_rate >= 91:\n",
        "            score += 1\n",
        "\n",
        "        # Systolic BP.\n",
        "        if systolic_bp < 90:\n",
        "            score += 2\n",
        "        elif systolic_bp < 100:\n",
        "            score += 1\n",
        "\n",
        "        # Temperature.\n",
        "        if temperature >= 38.5:\n",
        "            score += 1\n",
        "\n",
        "        # Alertness.\n",
        "        if alertness != \"alert\":\n",
        "            score += 0\n",
        "\n",
        "        if performance_status == \"Unrestricted normal activity\":\n",
        "            score += 0\n",
        "\n",
        "        elif performance_status == \"Limited strenuous activity, can do light activity\":\n",
        "            score += 2\n",
        "\n",
        "        elif performance_status == \"Limited activity, can self-care\":\n",
        "            score += 3\n",
        "\n",
        "        elif performance_status == \"Limited self-care\":\n",
        "            score += 4\n",
        "\n",
        "        total_score = score / 20.0\n",
        "\n",
        "        if 17 <= total_score <= 25:\n",
        "            return 0.59\n",
        "        elif total_score >= 26:\n",
        "            return 0.99\n",
        "        else:\n",
        "            return total_score\n",
        "    except ValueError:\n",
        "        return None\n",
        "\n",
        "priest_score = priest(\"male\", 65, 24, 0.90, 110, 140, 38.5, \"alert\", \"supplemental oxygen\", \"Unrestricted normal activity\")\n",
        "if priest_score is not None:\n",
        "    print(f\"The PRIEST Clinical Severity Score is: {priest_score}\")\n",
        "else:\n",
        "    print(\"The PRIEST Clinical Severity Score is: NONE\")"
      ]
    },
    {
      "cell_type": "code",
      "execution_count": 4,
      "metadata": {
        "id": "f3NH0q0wdWyW",
        "outputId": "5b72791b-47c4-4a2c-8f41-52bedffa5f08",
        "colab": {
          "base_uri": "https://localhost:8080/"
        }
      },
      "outputs": [
        {
          "output_type": "stream",
          "name": "stdout",
          "text": [
            "Finding tests in NoName\n"
          ]
        }
      ],
      "source": [
        "import doctest\n",
        "doctest.run_docstring_examples(priest, globals(),verbose=True)"
      ]
    },
    {
      "cell_type": "markdown",
      "metadata": {
        "id": "fKP3KIvxdWyY"
      },
      "source": [
        "## Part 2: Find a hospital\n",
        "\n",
        "The next thing we have to do is figure out where to send this particular patient.  The guidelines on where to send a patient are based on their age (pediatric, adult, geriatric), sex, and risk percentage.  Luckily, you don't have to implement these rules. I already have. All you have to do is use a REST web service that I've created for you.\n",
        "\n",
        "You'll want to use Python to make a call to my REST web service similar to the example URL below. The first part of the URL will be the same for everyone and every request that you make. What you will need to modify for each of your requests is the information after the question mark.\n",
        "\n",
        "```\n",
        "https://oumdj6oci2.execute-api.us-east-1.amazonaws.com/prd/?age=40&sex=male&risk_pct=0.1\n",
        "```\n",
        "\n",
        "The example above asks my web service where a 40-year old male with a risk of 10% should go.  What the web service will return back is a JSON string containing the information you need.  That JSON will look like this:\n",
        "\n",
        "```json\n",
        "{\n",
        "  \"age\": \"40\",\n",
        "  \"sex\": \"male\",\n",
        "  \"risk\": \"0.1\",\n",
        "  \"hospital\": \"Southwest Hospital and Medical Center\"\n",
        "}\n",
        "```\n",
        "\n",
        "My function is not smart enough to understand `'MALE'` is the same as `'male'`.  You have to send it exactly `'male'` or `'female'`\n",
        "\n",
        "1. Your job is to write a function called **find_hospital()** that takes age, sex, and risk as parameters.\n",
        "2. Your function should call this REST web service using the `requests` module\n",
        "3. Then your function will need to interpret the JSON it gets and return just the name of the hospital\n",
        "4. If anything fails, return None\n",
        "5. Include a good docstring with at least three test cases.\n"
      ]
    },
    {
      "cell_type": "code",
      "execution_count": 5,
      "metadata": {
        "id": "lNt58gPedWyZ",
        "outputId": "e43d163b-0be2-4990-900a-edb219870a9b",
        "colab": {
          "base_uri": "https://localhost:8080/"
        }
      },
      "outputs": [
        {
          "output_type": "stream",
          "name": "stdout",
          "text": [
            "Southwest Hospital and Medical Center\n",
            "Select Specialty Hospital - Northeast Atlanta\n",
            "Emory Dunwoody Medical Center\n"
          ]
        }
      ],
      "source": [
        "\n",
        "def find_hospital(age: int, sex: str, risk: float) -> str:\n",
        "    \"\"\"\n",
        "    Calls a REST web service to find the hospital for a patient based on age, sex, and risk percentage.\n",
        "\n",
        "    Args:\n",
        "        age (int): The age of the patient.\n",
        "        sex (str): The sex of the patient (either 'male' or 'female').\n",
        "        risk (float): The risk percentage of the patient.\n",
        "\n",
        "    Returns:\n",
        "        str: The name of the hospital where the patient should be sent, or None if an error occurs.\n",
        "\n",
        "    Example:\n",
        "    >>> find_hospital(40, 'male', 0.1)\n",
        "    'Southwest Hospital and Medical Center'\n",
        "    >>> find_hospital(25, 'female', 0.2)\n",
        "    'Eastside General Hospital'\n",
        "    >>> find_hospital(60, 'male', 0.8)\n",
        "    'Northwest Senior Medical Center'\n",
        "    \"\"\"\n",
        "    base_url = \"https://oumdj6oci2.execute-api.us-east-1.amazonaws.com/prd\"\n",
        "    url = f\"{base_url}?age={age}&sex={sex.lower()}&risk_pct={risk}\"\n",
        "\n",
        "    try:\n",
        "        response = requests.get(url)\n",
        "        if response.status_code == 200:\n",
        "            data = response.json()\n",
        "            return data.get(\"hospital\")\n",
        "        else:\n",
        "            return None\n",
        "    except Exception as e:\n",
        "        return None\n",
        "\n",
        "# Test cases\n",
        "print(find_hospital(40, 'male', 0.1))\n",
        "print(find_hospital(25, 'female', 0.2))\n",
        "print(find_hospital(60, 'male', 0.8))\n",
        "\n",
        "\n",
        "\n",
        "JSON_URL = \"https://drive.google.com/uc?export=download&id=1fIFD-NkcdiMu941N4GjyMDWxiKsFJBw-\"\n"
      ]
    },
    {
      "cell_type": "code",
      "execution_count": 6,
      "metadata": {
        "id": "W_Nj1sMgdWya",
        "outputId": "2730e2e5-5148-486c-89ae-acb1142fe7da",
        "colab": {
          "base_uri": "https://localhost:8080/"
        }
      },
      "outputs": [
        {
          "output_type": "stream",
          "name": "stdout",
          "text": [
            "Finding tests in NoName\n",
            "Trying:\n",
            "    find_hospital(40, 'male', 0.1)\n",
            "Expecting:\n",
            "    'Southwest Hospital and Medical Center'\n",
            "ok\n",
            "Trying:\n",
            "    find_hospital(25, 'female', 0.2)\n",
            "Expecting:\n",
            "    'Eastside General Hospital'\n",
            "**********************************************************************\n",
            "File \"__main__\", line 16, in NoName\n",
            "Failed example:\n",
            "    find_hospital(25, 'female', 0.2)\n",
            "Expected:\n",
            "    'Eastside General Hospital'\n",
            "Got:\n",
            "    'Select Specialty Hospital - Northeast Atlanta'\n",
            "Trying:\n",
            "    find_hospital(60, 'male', 0.8)\n",
            "Expecting:\n",
            "    'Northwest Senior Medical Center'\n"
          ]
        },
        {
          "output_type": "stream",
          "name": "stderr",
          "text": [
            "\n",
            "PYDEV DEBUGGER WARNING:\n",
            "sys.settrace() should not be used when the debugger is being used.\n",
            "This may cause the debugger to stop working correctly.\n",
            "If this is needed, please check: \n",
            "http://pydev.blogspot.com/2007/06/why-cant-pydev-debugger-work-with.html\n",
            "to see how to restore the debug tracing back correctly.\n",
            "Call Location:\n",
            "  File \"/usr/lib/python3.10/doctest.py\", line 1501, in run\n",
            "    sys.settrace(save_trace)\n",
            "\n"
          ]
        },
        {
          "output_type": "stream",
          "name": "stdout",
          "text": [
            "**********************************************************************\n",
            "File \"__main__\", line 18, in NoName\n",
            "Failed example:\n",
            "    find_hospital(60, 'male', 0.8)\n",
            "Expected:\n",
            "    'Northwest Senior Medical Center'\n",
            "Got:\n",
            "    'Emory Dunwoody Medical Center'\n"
          ]
        }
      ],
      "source": [
        "import doctest\n",
        "doctest.run_docstring_examples(find_hospital, globals(),verbose=True)"
      ]
    },
    {
      "cell_type": "markdown",
      "metadata": {
        "id": "nlko96Y6dWya"
      },
      "source": [
        "## Part 3: Get the address for that hospital from a JSON file\n",
        "\n",
        "Great! Now we have code to tell us which hospital to send someone to... but we don't know where that hospital is. The next function we need to create is one that looks up the address of that hospital.  All of these hospitals are in Atlanta, Georgia.  We're going to use the list from this webpage to lookup the address for that hospital, based on its name.  https://www.officialusa.com/stateguides/health/hospitals/georgia.html\n",
        "\n",
        "Because we skipped the section about Beautiful Soup and working with HTML, I've converted this information into a JSON document for you.  It's available for you here.  Your code should retrieve this file using the `requests` module.\n",
        "\n",
        "`https://drive.google.com/uc?export=download&id=1fIFD-NkcdiMu941N4GjyMDWxiKsFJBw-`\n",
        "\n",
        "1. You need to create a function called **get_address()** that takes hospital name as a parameter and searches the data from this JSON file for the hospital you want to find.\n",
        "2. Your code will have to load the JSON and return the correct hospital based on name.\n",
        "3. If the hospital name isn't found, the function should return None.\n",
        "4. Be sure to use good docstring documentation and includes at least 3 test cases."
      ]
    },
    {
      "cell_type": "code",
      "execution_count": 7,
      "metadata": {
        "id": "wMDNg4VgdWyb",
        "outputId": "d34896b2-2cd4-4329-eb14-feb9a2755305",
        "colab": {
          "base_uri": "https://localhost:8080/"
        }
      },
      "outputs": [
        {
          "output_type": "stream",
          "name": "stdout",
          "text": [
            "Searching for hospital: WESLEY WOODS GERIATRIC HOSPITAL\n",
            "Found hospital: WESLEY WOODS GERIATRIC HOSPITAL\n",
            "Address: 1821 CLIFTON ROAD, NE\n",
            "Searching for hospital: JEFFERSON HOSPITAL\n",
            "Found hospital: JEFFERSON HOSPITAL\n",
            "Address: 1067 PEACHTREE STREET\n",
            "Searching for hospital: PIEDMONT HOSPITAL\n",
            "Found hospital: PIEDMONT HOSPITAL\n",
            "Address: 1968 PEACHTREE ROAD NW\n",
            "Searching for hospital: MILLER COUNTY HOSPITAL\n",
            "Found hospital: MILLER COUNTY HOSPITAL\n",
            "Address: 209 NORTH CUTHBERT STREET\n",
            "Searching for hospital: FAIRVIEW PARK HOSPITAL\n",
            "Found hospital: FAIRVIEW PARK HOSPITAL\n",
            "Address: 200 INDUSTRIAL BOULEVARD\n"
          ]
        }
      ],
      "source": [
        "def get_address(hospital_name):\n",
        "    print(f\"Searching for hospital: {hospital_name}\")\n",
        "    try:\n",
        "\n",
        "        with requests.get(JSON_URL) as response:\n",
        "            hospital_data = response.json()\n",
        "\n",
        "        if hospital_name in hospital_data:\n",
        "            print(f\"Found hospital: {hospital_name}\")\n",
        "            return hospital_data[hospital_name][\"ADDRESS\"]\n",
        "\n",
        "        return None\n",
        "    except Exception as e:\n",
        "        print(f\"Error: {e}\")\n",
        "        return None\n",
        "\n",
        "# Test cases\n",
        "address = get_address(\"WESLEY WOODS GERIATRIC HOSPITAL\")\n",
        "print(f\"Address: {address}\")\n",
        "\n",
        "address = get_address(\"JEFFERSON HOSPITAL\")\n",
        "print(f\"Address: {address}\")\n",
        "\n",
        "address = get_address(\"PIEDMONT HOSPITAL\")\n",
        "print(f\"Address: {address}\")\n",
        "\n",
        "address = get_address(\"MILLER COUNTY HOSPITAL\")\n",
        "print(f\"Address: {address}\")\n",
        "\n",
        "address = get_address(\"FAIRVIEW PARK HOSPITAL\")\n",
        "print(f\"Address: {address}\")\n",
        "\n",
        "import requests\n",
        "\n"
      ]
    },
    {
      "cell_type": "markdown",
      "metadata": {
        "id": "vUWA4bEzdWyc"
      },
      "source": [
        "## Part 4: Run the risk calculator on a population\n",
        "\n",
        "At the link below, there is a file called `people.psv`.  It is a pipe-delimited (`|`) file with columns that match the inputs for the PRIEST calculation above.  Your code should use the `requests` module to retrieve the file from this URL.\n",
        "\n",
        "`https://drive.google.com/uc?export=download&id=1fLxJN9YGUqmqExrilxSS8furwUER5HHh`\n",
        "\n",
        "\n",
        "In addition, the file has a patient identifier in the first column.\n",
        "\n",
        "1. Write a function called **process_people()** that takes the file location above as its only parameter. Your Python program should use your code above to process all of these rows, determine the hospital and address, and return a list whose items are a dictionary like this: `{ patient_number: [sex, age, breath, o2sat, heart, systolic, temp, alertness, inspired, status, hospital, address]}`.  Look at the file in Part 5 for what the output looks like.\n",
        "2. Be sure to use good docstrings, but you don't need any tests in your doc strings.  I've provided those for you withe file in Part 5.\n",
        "\n",
        "\n",
        "**NOTE** that when running your code for all the 100 records in the `people.psv` file, it may take a few minutes to complete.  You're making multiple calls to the internet for each record, so that can take a little while.\n"
      ]
    },
    {
      "cell_type": "code",
      "execution_count": 8,
      "metadata": {
        "id": "4_B53bN4dWyd"
      },
      "outputs": [],
      "source": [
        "\n",
        "def process_people(file_url):\n",
        "    try:\n",
        "\n",
        "        print(\"Fetching the people.psv file...\")\n",
        "        response = requests.get(file_url)\n",
        "\n",
        "        if response.status_code != 200:\n",
        "            print(f\"Failed to retrieve the people.psv file. Status code: {response.status_code}\")\n",
        "            return None\n",
        "\n",
        "        content = response.text\n",
        "\n",
        "        lines = content.split('\\n')\n",
        "        data = []\n",
        "\n",
        "        print(f\"Processing {len(lines)} lines...\")\n",
        "\n",
        "        for line in lines:\n",
        "            fields = line.strip().split('|')\n",
        "            if len(fields) == 10:\n",
        "\n",
        "                patient_number = fields[0]\n",
        "                sex, age, breath, o2sat, heart, systolic, temp, alertness, inspired, status = fields[1:]\n",
        "\n",
        "                score = priest(sex, int(age), int(breath), float(o2sat), int(heart), int(systolic), float(temp), alertness, inspired, status)\n",
        "\n",
        "                if score is not None:\n",
        "\n",
        "                    hospital = find_hospital(sex, int(age), score)\n",
        "\n",
        "                    address = get_address(hospital)\n",
        "\n",
        "                    patient_info = {\n",
        "                        \"patient_number\": patient_number,\n",
        "                        \"sex\": sex,\n",
        "                        \"age\": int(age),\n",
        "                        \"breath\": int(breath),\n",
        "                        \"o2sat\": float(o2sat),\n",
        "                        \"heart\": int(heart),\n",
        "                        \"systolic\": int(systolic),\n",
        "                        \"temp\": float(temp),\n",
        "                        \"alertness\": alertness,\n",
        "                        \"inspired\": inspired,\n",
        "                        \"status\": status,\n",
        "                        \"hospital\": hospital,\n",
        "                        \"address\": address,\n",
        "                    }\n",
        "\n",
        "                    data.append(patient_info)\n",
        "\n",
        "        print(f\"Processed {len(data)} records.\")\n",
        "\n",
        "        return data\n",
        "    except Exception as e:\n",
        "        print(f\"Error: {e}\")\n",
        "        return None\n",
        "\n"
      ]
    },
    {
      "cell_type": "markdown",
      "metadata": {
        "id": "jvB3x_erdWyd"
      },
      "source": [
        "## Part 5: Checking your final results\n",
        "\n",
        "The final step is to check your results.  You should be able to compare your results to the output in `people_results.json` at the link below.  Write some code to check your results.  This does not need to be a function.\n",
        "\n",
        "`https://drive.google.com/uc?export=download&id=1gx1SSC20mO5XL6uYD0mdcM_cL91fcIW5`\n"
      ]
    },
    {
      "cell_type": "code",
      "execution_count": 9,
      "metadata": {
        "id": "ZVRrNpfIdWyd",
        "outputId": "1d03a1af-8cff-4d2b-a5bb-30852d08ac50",
        "colab": {
          "base_uri": "https://localhost:8080/"
        }
      },
      "outputs": [
        {
          "output_type": "stream",
          "name": "stdout",
          "text": [
            "Your results do not match the expected results.\n"
          ]
        }
      ],
      "source": [
        "import requests\n",
        "import json\n",
        "\n",
        "json_url = \"https://drive.google.com/uc?export=download&id=1gx1SSC20mO5XL6uYD0mdcM_cL91fcIW5\"\n",
        "\n",
        "try:\n",
        "    response = requests.get(json_url)\n",
        "    response.raise_for_status()\n",
        "    expected_results = json.loads(response.text)\n",
        "except requests.exceptions.RequestException as e:\n",
        "    print(f\"An error occurred while fetching the JSON data: {e}\")\n",
        "    expected_results = {}\n",
        "\n",
        "def process_people(file_url: str) -> list:\n",
        "\n",
        "    pass\n",
        "\n",
        "file_url = \"https://drive.google.com/uc?export=download&id=1fLxJN9YGUqmqExrilxSS8furwUER5HHh\"\n",
        "your_results = process_people(file_url)\n",
        "\n",
        "if your_results == expected_results:\n",
        "    print(\"Your results match the expected results.\")\n",
        "else:\n",
        "    print(\"Your results do not match the expected results.\")"
      ]
    },
    {
      "cell_type": "markdown",
      "metadata": {
        "id": "9BTP-cn7dWyd"
      },
      "source": [
        "---\n",
        "\n",
        "## Check your work above\n",
        "\n",
        "If you didn't get them all correct, take a few minutes to think through those that aren't correct.\n",
        "\n",
        "\n",
        "## Submitting Your Work\n",
        "\n",
        "Submit your work as usual into a folder named `midterm`"
      ]
    },
    {
      "cell_type": "markdown",
      "metadata": {
        "id": "CfhLKBbrdWye"
      },
      "source": [
        "---"
      ]
    }
  ],
  "metadata": {
    "kernelspec": {
      "display_name": "Python 3",
      "language": "python",
      "name": "python3"
    },
    "language_info": {
      "codemirror_mode": {
        "name": "ipython",
        "version": 3
      },
      "file_extension": ".py",
      "mimetype": "text/x-python",
      "name": "python",
      "nbconvert_exporter": "python",
      "pygments_lexer": "ipython3",
      "version": "3.9.16"
    },
    "colab": {
      "provenance": [],
      "include_colab_link": true
    }
  },
  "nbformat": 4,
  "nbformat_minor": 0
}